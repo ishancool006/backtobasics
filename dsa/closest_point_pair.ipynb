{
 "cells": [
  {
   "cell_type": "markdown",
   "metadata": {},
   "source": [
    "# Closest Point Pair\n",
    "\n",
    "From Wikipedia, \n",
    "> The closest pair of points problem or closest pair problem is a problem of computational geometry: given n points in metric space, find a pair of points with the smallest distance between them.\n"
   ]
  },
  {
   "cell_type": "code",
   "execution_count": null,
   "metadata": {},
   "outputs": [],
   "source": [
    "import random\n",
    "import matplotlib.pyplot as plt"
   ]
  },
  {
   "cell_type": "code",
   "execution_count": null,
   "metadata": {},
   "outputs": [],
   "source": [
    "nr_points = 50\n",
    "points = [(random.randint(1, 1000), random.randint(1, 1000)) for _ in range(1, nr_points)]"
   ]
  },
  {
   "cell_type": "code",
   "execution_count": null,
   "metadata": {},
   "outputs": [],
   "source": [
    "X = [x[0] for x in points]\n",
    "Y = [y[1] for y in points]\n",
    "\n",
    "plt.figure(figsize=(20,20))\n",
    "p = plt.scatter(X, Y, s=100)"
   ]
  },
  {
   "cell_type": "markdown",
   "metadata": {},
   "source": [
    "## Distance"
   ]
  },
  {
   "cell_type": "code",
   "execution_count": null,
   "metadata": {},
   "outputs": [],
   "source": [
    "import math\n",
    "\n",
    "def dist(p, q):\n",
    "    px, py = p\n",
    "    qx, qy = q\n",
    "    return math.sqrt((px - qx)**2 + (py - qy)**2)\n",
    "\n",
    "INF = 1e100"
   ]
  },
  {
   "cell_type": "markdown",
   "metadata": {},
   "source": [
    "## Bruteforce\n",
    "_Time Complexity: O(n^2)_"
   ]
  },
  {
   "cell_type": "code",
   "execution_count": null,
   "metadata": {},
   "outputs": [],
   "source": [
    "def closest_pair_bruteforce(pts):\n",
    "    min_dist = INF\n",
    "    closest_pair = None, None\n",
    "    for p1 in pts:\n",
    "        for p2 in pts:\n",
    "            if p1 != p2:\n",
    "                p1p2_dist = dist(p1, p2)\n",
    "                if p1p2_dist < min_dist:\n",
    "                    min_dist = p1p2_dist\n",
    "                    closest_pair = p1, p2\n",
    "                    \n",
    "    return min_dist, closest_pair\n",
    "                    \n",
    "closest_pair_bruteforce(points)"
   ]
  },
  {
   "cell_type": "markdown",
   "metadata": {},
   "source": [
    "## Divide & Conquer\n",
    "\n",
    "### Reduce problem to one or more sub-problems of the same type\n",
    "_Time Complexity: O(n(logn)^2)_"
   ]
  },
  {
   "cell_type": "code",
   "execution_count": null,
   "metadata": {},
   "outputs": [],
   "source": [
    "def _boundary_closest_pair(pts, d, mid_pt):\n",
    "    # boundary contains all the points (less than d) closer to bounadry line\n",
    "    boundary = [p for p in pts if abs(p[0] - mid_pt[0]) < d]\n",
    "    \n",
    "    # sort by Y cordinates\n",
    "    boundary.sort(key=lambda p: p[1]) # O(nlogn)\n",
    "    \n",
    "    min_d = d\n",
    "    bpair = None\n",
    "    \n",
    "    # loop over boundary points till the dist between y coord is less than d\n",
    "    for p in boundary:\n",
    "        for q in boundary:\n",
    "            if p!=q and q[1] - p[1] < min_d:\n",
    "                if dist(p, q) < min_d:\n",
    "                    min_d = dist(p, q)\n",
    "                    bpair = p, q\n",
    "    \n",
    "    # we found the pair on boundary\n",
    "    if min_d != d:\n",
    "        return min_d, bpair\n",
    "    return INF, bpair"
   ]
  },
  {
   "cell_type": "code",
   "execution_count": null,
   "metadata": {},
   "outputs": [],
   "source": [
    "def closest_pair_dc(pts):\n",
    "    if len(pts) <= 1:\n",
    "        return INF, None\n",
    "    \n",
    "    if len(pts) == 2:\n",
    "        p = pts[0]\n",
    "        q = pts[1]\n",
    "        return dist(p, q), (p, q)\n",
    "    \n",
    "    # DIVIDE\n",
    "    half = len(pts) // 2\n",
    "    left = pts[:half]\n",
    "    right = pts[half:]\n",
    "    \n",
    "    # CONQUER\n",
    "    ld, lpair = closest_pair_dc(left)\n",
    "    rd, rpair = closest_pair_dc(right)\n",
    "    \n",
    "    sd, bpair = _boundary_closest_pair(pts, min(ld, rd), pts[half])\n",
    "    \n",
    "    if ld < rd and ld < sd:\n",
    "        return ld, lpair\n",
    "    if rd < ld and rd < sd:\n",
    "        return rd, rpair\n",
    "    return sd, bpair"
   ]
  },
  {
   "cell_type": "code",
   "execution_count": null,
   "metadata": {},
   "outputs": [],
   "source": [
    "# Sort points by X axis, why? Closest pair is adjacent in ordered list, saves us bruteforce, do not need to calc distances\n",
    "# between all pairs\n",
    "points_sorted = sorted(points, key=lambda p: p[0]) # O(logn)\n",
    "\n",
    "d, pair = closest_pair_dc(points_sorted)\n",
    "d, pair"
   ]
  },
  {
   "cell_type": "markdown",
   "metadata": {},
   "source": [
    "## Visulize closest pair"
   ]
  },
  {
   "cell_type": "code",
   "execution_count": null,
   "metadata": {},
   "outputs": [],
   "source": [
    "c = [0] * len(points)\n",
    "for i in range(len(points)):\n",
    "    if points[i] == pair[0]:\n",
    "        c[i] = 3\n",
    "    if points[i] == pair[1]:\n",
    "        c[i] = 2\n",
    "    \n",
    "\n",
    "plt.figure(figsize=(20,20))\n",
    "p = plt.scatter(X, Y, s=100, c=c)\n",
    "\n",
    "# draw initial boundary line\n",
    "mid = points[len(points) // 2]\n",
    "_ = plt.axvline(x=mid[0])"
   ]
  },
  {
   "cell_type": "markdown",
   "metadata": {},
   "source": [
    "# Can we do better?\n",
    "\n",
    "We can reduce time complexity to _O(nlogn)_ by sorting the input array on y coords for boundary window case as we are doing sorting on boundary window on each\n",
    "recusrsive call\n",
    "\n",
    "Refer: https://www.geeksforgeeks.org/closest-pair-of-points-onlogn-implementation/"
   ]
  },
  {
   "cell_type": "markdown",
   "metadata": {},
   "source": [
    "# Use cases\n",
    "\n",
    "- GIS - nearest poi of same type\n",
    "- Gaming - avoid collison with nearby object"
   ]
  },
  {
   "cell_type": "markdown",
   "metadata": {},
   "source": [
    "# Refrences\n",
    "\n",
    "- https://www.youtube.com/watch?v=frir6Sf7ft4\n",
    "- https://www.geeksforgeeks.org/closest-pair-of-points-using-divide-and-conquer-algorithm/\n",
    "- https://www.cs.mcgill.ca/~cs251/ClosestPair/ClosestPairDQ.html"
   ]
  }
 ],
 "metadata": {
  "kernelspec": {
   "display_name": "Python 3",
   "language": "python",
   "name": "python3"
  },
  "language_info": {
   "codemirror_mode": {
    "name": "ipython",
    "version": 3
   },
   "file_extension": ".py",
   "mimetype": "text/x-python",
   "name": "python",
   "nbconvert_exporter": "python",
   "pygments_lexer": "ipython3",
   "version": "3.7.5"
  }
 },
 "nbformat": 4,
 "nbformat_minor": 4
}
