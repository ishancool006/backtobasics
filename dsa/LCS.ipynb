{
 "cells": [
  {
   "cell_type": "markdown",
   "metadata": {},
   "source": [
    "# Longest Common Subsequence"
   ]
  },
  {
   "cell_type": "markdown",
   "metadata": {},
   "source": [
    "### Given two sequences, find the length of longest subsequence present in both of them. A subsequence is a sequence that appears in the same relative order, but not necessarily contiguous. For example, for `abc` & `abg` the subsequences is `ab`. "
   ]
  },
  {
   "cell_type": "markdown",
   "metadata": {},
   "source": [
    "# Solution"
   ]
  },
  {
   "cell_type": "markdown",
   "metadata": {},
   "source": [
    "### **Bruteforce**"
   ]
  },
  {
   "cell_type": "markdown",
   "metadata": {},
   "source": [
    "> Find the number of subsequences with lengths ranging from 1,2,..n-1. Number of combinations with 2 elements are $2^n$, so a string of length n has $2^n-1$ possibilites"
   ]
  },
  {
   "cell_type": "code",
   "execution_count": 1,
   "metadata": {},
   "outputs": [
    {
     "data": {
      "text/plain": [
       "2"
      ]
     },
     "execution_count": 1,
     "metadata": {},
     "output_type": "execute_result"
    }
   ],
   "source": [
    "# https://www.geeksforgeeks.org/generating-distinct-subsequences-of-a-given-string-in-lexicographic-order/\n",
    "def subsequence(s, out):\n",
    "    if not s: return\n",
    "    \n",
    "    if s not in out:\n",
    "        out.append(s)\n",
    "        \n",
    "        for i in range(len(s)):\n",
    "            t = list(s).copy() \n",
    "            t.remove(s[i]) \n",
    "            t = ''.join(t) \n",
    "            subsequence(t, out)\n",
    "\n",
    "            \n",
    "sub1 = []\n",
    "sub2 = []\n",
    "\n",
    "s1, s2 = \"AXYT\", \"AYZX\"\n",
    "\n",
    "subsequence(s1, sub1)\n",
    "subsequence(s2, sub2)\n",
    "\n",
    "len(max(list(filter(lambda r: r in sub2, sub1)), key=len))"
   ]
  },
  {
   "cell_type": "markdown",
   "metadata": {},
   "source": [
    "Time complexity: $O(2^n$)"
   ]
  },
  {
   "cell_type": "markdown",
   "metadata": {},
   "source": [
    "### **Recursive**\n",
    "> Lets find overlapping sub-problems strcuture, “overlapping” refers to the subproblems repeating again and again. In contrast, an algorithm like mergesort recursively sorts independent halves of a list before combining the sorted halves. When the subproblems don’t overlap, the algorithm is a divide-and-conquer algorithm."
   ]
  },
  {
   "cell_type": "code",
   "execution_count": 2,
   "metadata": {},
   "outputs": [
    {
     "data": {
      "text/plain": [
       "2"
      ]
     },
     "execution_count": 2,
     "metadata": {},
     "output_type": "execute_result"
    }
   ],
   "source": [
    "def lcs(s1, s2, i, j):\n",
    "    if i == 0 or j == 0: return 0\n",
    "    \n",
    "    if s1[i-1] == s2[j-1]: \n",
    "        return 1 + lcs(s1, s2, i-1, j-1)\n",
    "    else:\n",
    "        return max(lcs(s1, s2, i, j-1), lcs(s1, s2, i-1, j))\n",
    "    \n",
    "\n",
    "s1, s2 = \"AXYT\", \"AYZX\"\n",
    "lcs(s1, s2, len(s1), len(s2))"
   ]
  },
  {
   "cell_type": "markdown",
   "metadata": {},
   "source": [
    "Time complexity: $O(2^n)$"
   ]
  },
  {
   "cell_type": "markdown",
   "metadata": {},
   "source": [
    "### **How to make recursion fast?**\n",
    "\n",
    "Recursion tree:\n",
    "```\n",
    "                      lcs(\"AXYT\", \"AYZX\")\n",
    "                       /               \\  \n",
    "         lcs(\"AXY\", \"AYZX\")            lcs(\"AXYT\", \"AYZ\")\n",
    "         /          \\                    /              \\ \n",
    "lcs(\"AX\", \"AYZX\") lcs(\"AXY\", \"AYZ\")   lcs(\"AXY\", \"AYZ\") lcs(\"AXYT\", \"AY\")\n",
    "```\n",
    "`lcs(“AXY”, “AYZ”)` is being solved twice\n",
    "\n",
    "Looking at recusrsion tree, we can see that we are computing same sub-problems again and again, lets cache result to improve run-time."
   ]
  },
  {
   "cell_type": "code",
   "execution_count": 7,
   "metadata": {},
   "outputs": [
    {
     "name": "stdout",
     "output_type": "stream",
     "text": [
      "2\n"
     ]
    }
   ],
   "source": [
    "cache = {}\n",
    "\n",
    "def lcs(s1, s2, i, j):\n",
    "    if (i, j) in cache:\n",
    "        return cache[(i, j)]\n",
    "    \n",
    "    if i == 0 or j == 0: return 0\n",
    "    \n",
    "    if s1[i-1] == s2[j-1]: \n",
    "        res = 1 + lcs(s1, s2, i-1, j-1)\n",
    "    else:\n",
    "        res = max(lcs(s1, s2, i, j-1), lcs(s1, s2, i-1, j))\n",
    "        \n",
    "    cache[(i, j)] = res\n",
    "    \n",
    "    return res\n",
    "\n",
    "\n",
    "s1, s2 = \"AXYT\", \"AYZX\"\n",
    "\n",
    "print(lcs(s1, s2, len(s1)-1, len(s2)-1))"
   ]
  },
  {
   "cell_type": "markdown",
   "metadata": {},
   "source": [
    "The above approch is also called _Top Down_ approach.\n",
    "Time complexity: $O(n)$"
   ]
  },
  {
   "cell_type": "markdown",
   "metadata": {},
   "source": [
    "## Usage\n",
    "- Data comparison programs such as the diff utility\n",
    "- Used by git for reconciling multiple changes made to a staged files"
   ]
  },
  {
   "cell_type": "markdown",
   "metadata": {},
   "source": [
    "## Reference\n",
    "- https://avikdas.com/2019/04/15/a-graphical-introduction-to-dynamic-programming.html\n",
    "- https://www.geeksforgeeks.org/longest-common-subsequence-dp-4/\n",
    "- https://www.youtube.com/watch?v=Qf5R-uYQRPk"
   ]
  },
  {
   "cell_type": "code",
   "execution_count": null,
   "metadata": {},
   "outputs": [],
   "source": []
  }
 ],
 "metadata": {
  "kernelspec": {
   "display_name": "Python 3",
   "language": "python",
   "name": "python3"
  },
  "language_info": {
   "codemirror_mode": {
    "name": "ipython",
    "version": 3
   },
   "file_extension": ".py",
   "mimetype": "text/x-python",
   "name": "python",
   "nbconvert_exporter": "python",
   "pygments_lexer": "ipython3",
   "version": "3.7.5"
  }
 },
 "nbformat": 4,
 "nbformat_minor": 4
}
